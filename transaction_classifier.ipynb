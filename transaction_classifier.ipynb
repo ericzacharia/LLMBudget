{
 "cells": [
  {
   "cell_type": "code",
   "execution_count": 13,
   "metadata": {},
   "outputs": [
    {
     "name": "stdout",
     "output_type": "stream",
     "text": [
      "SVM Classifier Report:\n",
      "              precision    recall  f1-score   support\n",
      "\n",
      "     Housing       0.83      0.71      0.77        62\n",
      "      Income       0.97      0.95      0.96       192\n",
      " P2P Expense       0.80      1.00      0.89        99\n",
      "    Transfer       0.85      0.86      0.86       176\n",
      "     Utility       0.89      0.69      0.78        71\n",
      "\n",
      "    accuracy                           0.88       600\n",
      "   macro avg       0.87      0.84      0.85       600\n",
      "weighted avg       0.88      0.88      0.88       600\n",
      "\n",
      "Mean cross-validation accuracy: 0.8796\n",
      "Best SVM model and vectorizer saved to disk.\n",
      "SVM - Transaction category: Transfer\n"
     ]
    }
   ],
   "source": [
    "import pandas as pd\n",
    "from sklearn.model_selection import train_test_split, cross_val_score, StratifiedKFold\n",
    "from sklearn.feature_extraction.text import TfidfVectorizer\n",
    "from sklearn.svm import SVC\n",
    "from sklearn.metrics import classification_report\n",
    "import joblib\n",
    "import numpy as np\n",
    "\n",
    "# Load the data into a DataFrame from labeled_transactions.csv\n",
    "df = pd.read_csv(\"labeled_transactions.csv\")\n",
    "\n",
    "# Split the data into training and testing sets\n",
    "X_train, X_test, y_train, y_test = train_test_split(df[\"Description\"], df[\"Category\"], test_size=0.2, random_state=42)\n",
    "\n",
    "# Vectorize the text using TF-IDF\n",
    "vectorizer = TfidfVectorizer()\n",
    "X_train_tfidf = vectorizer.fit_transform(X_train)\n",
    "X_test_tfidf = vectorizer.transform(X_test)\n",
    "\n",
    "# Initialize SVM classifier\n",
    "svm_clf = SVC(kernel=\"linear\")\n",
    "\n",
    "# Perform 10-fold cross-validation\n",
    "cv = StratifiedKFold(n_splits=10)\n",
    "cross_val_scores = cross_val_score(svm_clf, X_train_tfidf, y_train, cv=cv, scoring=\"accuracy\")\n",
    "\n",
    "# Fit the model using the entire training set\n",
    "svm_clf.fit(X_train_tfidf, y_train)\n",
    "\n",
    "# Predict on the test set\n",
    "svm_y_pred = svm_clf.predict(X_test_tfidf)\n",
    "\n",
    "# Evaluate the model\n",
    "print(\"SVM Classifier Report:\")\n",
    "print(classification_report(y_test, svm_y_pred))\n",
    "\n",
    "# Calculate the mean cross-validation score\n",
    "mean_cross_val_score = np.mean(cross_val_scores)\n",
    "print(f\"Mean cross-validation accuracy: {mean_cross_val_score:.4f}\")\n",
    "\n",
    "# Save the best model (SVM) and the vectorizer to disk\n",
    "joblib.dump(svm_clf, \"svm_model.pkl\")\n",
    "joblib.dump(vectorizer, \"tfidf_vectorizer.pkl\")\n",
    "\n",
    "print(\"Best SVM model and vectorizer saved to disk.\")\n",
    "\n",
    "\n",
    "# Function to classify new transactions\n",
    "def classify_transaction(description):\n",
    "    description_tfidf = vectorizer.transform([description])\n",
    "    svm_category = svm_clf.predict(description_tfidf)[0]\n",
    "    print(f\"SVM - Transaction category: {svm_category}\")\n",
    "\n",
    "\n",
    "# Example classification\n",
    "new_transaction = \"Rent for July\"\n",
    "classify_transaction(new_transaction)"
   ]
  },
  {
   "cell_type": "code",
   "execution_count": null,
   "metadata": {},
   "outputs": [],
   "source": []
  }
 ],
 "metadata": {
  "kernelspec": {
   "display_name": "LLMs",
   "language": "python",
   "name": "python3"
  },
  "language_info": {
   "codemirror_mode": {
    "name": "ipython",
    "version": 3
   },
   "file_extension": ".py",
   "mimetype": "text/x-python",
   "name": "python",
   "nbconvert_exporter": "python",
   "pygments_lexer": "ipython3",
   "version": "3.11.4"
  }
 },
 "nbformat": 4,
 "nbformat_minor": 2
}
